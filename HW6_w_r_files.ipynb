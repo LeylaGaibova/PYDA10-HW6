{
 "cells": [
  {
   "cell_type": "markdown",
   "metadata": {},
   "source": [
    "1. Переведите содержимое файла purchase_log.txt в словарь purchases вида:\n",
    "\n",
    "{'1840e0b9d4': 'Продукты', ...}"
   ]
  },
  {
   "cell_type": "code",
   "execution_count": 1,
   "metadata": {},
   "outputs": [],
   "source": [
    "import json"
   ]
  },
  {
   "cell_type": "code",
   "execution_count": 2,
   "metadata": {},
   "outputs": [],
   "source": [
    "purchases = {}"
   ]
  },
  {
   "cell_type": "code",
   "execution_count": 3,
   "metadata": {},
   "outputs": [],
   "source": [
    "i = 0\n",
    "with open('D:\\\\Python\\\\Lesson6_w_r_files_040620\\\\5._Read-write_and_pip\\\\purchase_log.txt', 'r', encoding='utf-8') as f:\n",
    "    for line in f:\n",
    "        dict_ = json.loads(line)\n",
    "        purchases[dict_.get('user_id')] = dict_.get('category')\n"
   ]
  },
  {
   "cell_type": "markdown",
   "metadata": {},
   "source": [
    "2. Для каждого user_id в файле visit_log.csv определите третий столбец с категорией покупки (если покупка была, сам файл visit_log.csv изменять не надо). Запишите в файл funnel.csv визиты из файла visit_log.csv, в которых были покупки с указанием категории.\n",
    "\n",
    "Учтите условия на данные:\n",
    "\n",
    "содержимое purchase_log.txt помещается в оперативную память компьютера\n",
    "\n",
    "содержимое visit_log.csv - нет; используйте только построчную обработку этого файла"
   ]
  },
  {
   "cell_type": "code",
   "execution_count": 4,
   "metadata": {},
   "outputs": [],
   "source": [
    "with open('D:\\\\Python\\\\Lesson6_w_r_files_040620\\\\5._Read-write_and_pip\\\\visit_log.csv', 'r', encoding='utf-8') as f:\n",
    "    with open('D:\\\\Python\\\\Lesson6_w_r_files_040620\\\\5._Read-write_and_pip\\\\funnel.csv', 'w', encoding='utf-8') as f2write:\n",
    "        for line in f:\n",
    "            user_id1 = line[:line.index(',')]\n",
    "            if user_id1 in purchases and purchases.get(user_id1) != 'не определена':\n",
    "                f2write.write(f'{line.strip()},{purchases.get(user_id1)} \\n')\n",
    "purchases = {}                "
   ]
  },
  {
   "cell_type": "code",
   "execution_count": null,
   "metadata": {},
   "outputs": [],
   "source": []
  },
  {
   "cell_type": "code",
   "execution_count": null,
   "metadata": {},
   "outputs": [],
   "source": []
  }
 ],
 "metadata": {
  "kernelspec": {
   "display_name": "Python 3",
   "language": "python",
   "name": "python3"
  },
  "language_info": {
   "codemirror_mode": {
    "name": "ipython",
    "version": 3
   },
   "file_extension": ".py",
   "mimetype": "text/x-python",
   "name": "python",
   "nbconvert_exporter": "python",
   "pygments_lexer": "ipython3",
   "version": "3.7.6"
  }
 },
 "nbformat": 4,
 "nbformat_minor": 4
}
